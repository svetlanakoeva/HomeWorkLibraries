{
 "cells": [
  {
   "cell_type": "code",
   "execution_count": 25,
   "id": "66de3154",
   "metadata": {},
   "outputs": [
    {
     "name": "stdout",
     "output_type": "stream",
     "text": [
      "[[1 2 0]\n",
      " [0 0 5]\n",
      " [3 4 2]\n",
      " [1 6 5]\n",
      " [0 1 0]]\n"
     ]
    }
   ],
   "source": [
    "import numpy as np\n",
    "np.set_printoptions(precision=2, suppress=True)\n",
    "import math\n",
    "A = np.array([[1, 2, 0],\n",
    "            [0, 0, 5],\n",
    "            [3, 4, 2],\n",
    "            [1, 6, 5],\n",
    "            [0, 1, 0]])\n",
    "print(A)"
   ]
  },
  {
   "cell_type": "code",
   "execution_count": 26,
   "id": "21a9306c",
   "metadata": {},
   "outputs": [
    {
     "name": "stdout",
     "output_type": "stream",
     "text": [
      "[[ 0.17 -0.34  0.04 -0.88 -0.28]\n",
      " [ 0.33  0.84  0.33 -0.27  0.1 ]\n",
      " [ 0.49 -0.42  0.71  0.23  0.15]\n",
      " [ 0.78 -0.01 -0.57  0.18 -0.16]\n",
      " [ 0.07 -0.13 -0.23 -0.24  0.93]]\n"
     ]
    }
   ],
   "source": [
    "U,s,W = np.linalg.svd(A)\n",
    "print(U)"
   ]
  },
  {
   "cell_type": "code",
   "execution_count": 3,
   "id": "7b1c7bae",
   "metadata": {},
   "outputs": [
    {
     "name": "stdout",
     "output_type": "stream",
     "text": [
      "[[ 0.24 -0.36  0.9 ]\n",
      " [ 0.71 -0.57 -0.42]\n",
      " [ 0.66  0.74  0.12]]\n"
     ]
    }
   ],
   "source": [
    "V = W.T\n",
    "print(V)"
   ]
  },
  {
   "cell_type": "code",
   "execution_count": 4,
   "id": "9230412e",
   "metadata": {},
   "outputs": [
    {
     "name": "stdout",
     "output_type": "stream",
     "text": [
      "[[9.95 0.   0.  ]\n",
      " [0.   4.45 0.  ]\n",
      " [0.   0.   1.78]\n",
      " [0.   0.   0.  ]\n",
      " [0.   0.   0.  ]]\n"
     ]
    }
   ],
   "source": [
    "D = np.zeros_like(A, dtype = float)\n",
    "D[np.diag_indices(min(A.shape))] = s\n",
    "print(D)"
   ]
  },
  {
   "cell_type": "code",
   "execution_count": 5,
   "id": "93b6c7e1",
   "metadata": {},
   "outputs": [
    {
     "name": "stdout",
     "output_type": "stream",
     "text": [
      "[[ 1.  2. -0.]\n",
      " [ 0.  0.  5.]\n",
      " [ 3.  4.  2.]\n",
      " [ 1.  6.  5.]\n",
      " [-0.  1.  0.]]\n"
     ]
    }
   ],
   "source": [
    "print(np.dot(np.dot(U, D), V.T))"
   ]
  },
  {
   "cell_type": "code",
   "execution_count": null,
   "id": "d55187b1",
   "metadata": {},
   "outputs": [],
   "source": [
    "#евклидова норма матрицы равна максимальному сингулярному числу "
   ]
  },
  {
   "cell_type": "code",
   "execution_count": 33,
   "id": "d5d4258e",
   "metadata": {},
   "outputs": [
    {
     "name": "stdout",
     "output_type": "stream",
     "text": [
      "[9.95 4.45 1.78]\n",
      "Евклидова норма матрицы А = 9.95\n"
     ]
    }
   ],
   "source": [
    "print(s)#список диагональных элементов получили выше\n",
    "\n",
    "print(f'Евклидова норма матрицы А = {s[0]:.2f}')\n"
   ]
  },
  {
   "cell_type": "code",
   "execution_count": 42,
   "id": "88d164d8",
   "metadata": {},
   "outputs": [
    {
     "name": "stdout",
     "output_type": "stream",
     "text": [
      "99.07295451766535\n",
      "19.761865222231997\n",
      "3.1651802601026273\n"
     ]
    }
   ],
   "source": [
    "#норма фробениуса это корень из суммы квадратов всех сингулярных чисел\n",
    "def my_func():\n",
    "    for el in s:\n",
    "        res = el**2\n",
    "        print(res)\n",
    "my_func()  #так выглядят квадраты"
   ]
  },
  {
   "cell_type": "code",
   "execution_count": 36,
   "id": "1cfdcaac",
   "metadata": {},
   "outputs": [
    {
     "name": "stdout",
     "output_type": "stream",
     "text": [
      "Норма Фробениуса матрицы А = 11.04536101718726\n"
     ]
    }
   ],
   "source": [
    "print(f'Норма Фробениуса матрицы А = {math.sqrt(s[0]**2 + s[1]**2 + s[2]**2)}')\n",
    "\n"
   ]
  },
  {
   "cell_type": "code",
   "execution_count": null,
   "id": "d19a1604",
   "metadata": {},
   "outputs": [],
   "source": []
  }
 ],
 "metadata": {
  "kernelspec": {
   "display_name": "Python 3 (ipykernel)",
   "language": "python",
   "name": "python3"
  },
  "language_info": {
   "codemirror_mode": {
    "name": "ipython",
    "version": 3
   },
   "file_extension": ".py",
   "mimetype": "text/x-python",
   "name": "python",
   "nbconvert_exporter": "python",
   "pygments_lexer": "ipython3",
   "version": "3.9.13"
  }
 },
 "nbformat": 4,
 "nbformat_minor": 5
}
